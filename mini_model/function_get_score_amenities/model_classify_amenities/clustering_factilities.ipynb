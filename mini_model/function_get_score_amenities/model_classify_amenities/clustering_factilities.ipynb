{
 "cells": [
  {
   "cell_type": "code",
   "execution_count": 5,
   "id": "b9d8df51",
   "metadata": {},
   "outputs": [],
   "source": [
    "import pickle\n",
    "from pyvi import ViTokenizer\n",
    "from sklearn.metrics.pairwise import cosine_similarity\n",
    "\n",
    "# --- Đọc danh sách stopwords ---\n",
    "def load_stopwords(filepath=\"../../../dataset\\\\sub_model\\\\vietnamese-stopwords-dash.txt\"):\n",
    "    return set(open(filepath, encoding=\"utf-8\").read().split(\"\\n\"))\n",
    "\n",
    "# --- Tải model ---\n",
    "def load_model(filename=\"model_clustering_fac.pkl\"):\n",
    "    with open(filename, \"rb\") as f:\n",
    "        return pickle.load(f)"
   ]
  },
  {
   "cell_type": "code",
   "execution_count": 6,
   "id": "98381e42",
   "metadata": {},
   "outputs": [],
   "source": [
    "# --- Hàm xử lý token ---\n",
    "def get_token(text, vietnamese_stopwords):\n",
    "    text_tokens = ViTokenizer.tokenize(text).split()\n",
    "    filtered_text = [word for word in text_tokens if word not in vietnamese_stopwords]\n",
    "    return filtered_text\n",
    "\n",
    "# --- Tìm cụm phù hợp cho tiện ích ---\n",
    "def find_best_clusters(user_input, bm25, vectorizer, tfidf_matrix, cluster_texts, vietnamese_stopwords):\n",
    "    # Tiền xử lý user input\n",
    "    processed_user_input = [\" \".join(get_token(query, vietnamese_stopwords)) for query in user_input]\n",
    "\n",
    "    # BM25 Scores\n",
    "    bm25_scores = {cluster: 0 for cluster in cluster_texts.keys()}\n",
    "    for query in processed_user_input:\n",
    "        scores = bm25.get_scores(query.split())\n",
    "        for i, cluster in enumerate(cluster_texts.keys()):\n",
    "            bm25_scores[cluster] += scores[i]\n",
    "\n",
    "    # Cosine Similarity Scores\n",
    "    cosine_scores = {cluster: 0 for cluster in cluster_texts.keys()}\n",
    "    for query in processed_user_input:\n",
    "        query_vec = vectorizer.transform([query])\n",
    "        scores = cosine_similarity(query_vec, tfidf_matrix)[0]\n",
    "\n",
    "        for i, cluster in enumerate(cluster_texts.keys()):\n",
    "            cosine_scores[cluster] += scores[i]\n",
    "\n",
    "    # Kết hợp điểm BM25 + Cosine Similarity\n",
    "    final_scores = {cluster: bm25_scores[cluster] + cosine_scores[cluster] for cluster in cluster_texts.keys()}\n",
    "\n",
    "    # Sắp xếp cụm theo độ tương đồng\n",
    "    sorted_clusters = sorted(final_scores.items(), key=lambda x: x[1], reverse=True)\n",
    "    \n",
    "    return sorted_clusters\n",
    "    \n",
    "# Tải model đã lưu\n",
    "bm25, vectorizer, tfidf_matrix, cluster_texts = load_model()\n",
    "\n",
    "vietnamese_stopwords = load_stopwords()\n",
    "\n",
    "def find_clusters(user_input): # user_input: list of queries \n",
    "    sorted_clusters = find_best_clusters(user_input, bm25, vectorizer, tfidf_matrix, cluster_texts, vietnamese_stopwords)\n",
    "    return sorted_clusters\n"
   ]
  },
  {
   "cell_type": "code",
   "execution_count": 7,
   "id": "99d92b22",
   "metadata": {},
   "outputs": [
    {
     "data": {
      "text/plain": [
       "[('5', 0.0),\n",
       " ('1', 0.0),\n",
       " ('12', 0.0),\n",
       " ('11', 0.0),\n",
       " ('17', 0.0),\n",
       " ('7', 0.0),\n",
       " ('16', 0.0),\n",
       " ('15', 0.0),\n",
       " ('2', 0.0),\n",
       " ('8', 0.0),\n",
       " ('13', 0.0),\n",
       " ('3', 0.0),\n",
       " ('10', 0.0),\n",
       " ('14', 0.0),\n",
       " ('6', 0.0),\n",
       " ('4', 0.0),\n",
       " ('18', 0.0),\n",
       " ('9', 0.0)]"
      ]
     },
     "execution_count": 7,
     "metadata": {},
     "output_type": "execute_result"
    }
   ],
   "source": [
    "find_clusters(\"TV màn hình phẳng, két an toàn\")"
   ]
  },
  {
   "cell_type": "code",
   "execution_count": 8,
   "id": "c913d17e",
   "metadata": {},
   "outputs": [],
   "source": [
    "import pickle\n",
    "from pyvi import ViTokenizer\n",
    "from sklearn.metrics.pairwise import cosine_similarity\n",
    "\n",
    "# --- Đọc danh sách stopwords ---\n",
    "def load_stopwords(filepath=\"D:\\\\graduate_dissertation\\\\code\\\\processing\\\\vietnamese-stopwords-dash.txt\"):\n",
    "    return set(open(filepath, encoding=\"utf-8\").read().split(\"\\n\"))\n",
    "\n",
    "# --- Tải model ---\n",
    "def load_model(filename=\"D:\\\\graduate_dissertation\\\\code\\\\processing\\\\model_clustering_fac.pkl\"):\n",
    "    with open(filename, \"rb\") as f:\n",
    "        return pickle.load(f)\n",
    "\n",
    "# --- Hàm xử lý token ---\n",
    "def get_token(text, vietnamese_stopwords):\n",
    "    text_tokens = ViTokenizer.tokenize(text).split()\n",
    "    filtered_text = [word for word in text_tokens if word not in vietnamese_stopwords]\n",
    "    return filtered_text\n",
    "\n",
    "# --- Tìm cụm phù hợp cho tiện ích ---\n",
    "def find_best_clusters(user_input, bm25, vectorizer, tfidf_matrix, cluster_texts, vietnamese_stopwords):\n",
    "    # Tiền xử lý user input\n",
    "    processed_user_input = [\" \".join(get_token(query, vietnamese_stopwords)) for query in user_input]\n",
    "\n",
    "    # BM25 Scores\n",
    "    bm25_scores = {cluster: 0 for cluster in cluster_texts.keys()}\n",
    "    for query in processed_user_input:\n",
    "        scores = bm25.get_scores(query.split())\n",
    "        for i, cluster in enumerate(cluster_texts.keys()):\n",
    "            bm25_scores[cluster] += scores[i]\n",
    "\n",
    "    # Cosine Similarity Scores\n",
    "    cosine_scores = {cluster: 0 for cluster in cluster_texts.keys()}\n",
    "    for query in processed_user_input:\n",
    "        query_vec = vectorizer.transform([query])\n",
    "        scores = cosine_similarity(query_vec, tfidf_matrix)[0]\n",
    "\n",
    "        for i, cluster in enumerate(cluster_texts.keys()):\n",
    "            cosine_scores[cluster] += scores[i]\n",
    "\n",
    "    # Kết hợp điểm BM25 + Cosine Similarity\n",
    "    final_scores = {cluster: bm25_scores[cluster] + cosine_scores[cluster] for cluster in cluster_texts.keys()}\n",
    "\n",
    "    # Sắp xếp cụm theo độ tương đồng\n",
    "    sorted_clusters = sorted(final_scores.items(), key=lambda x: x[1], reverse=True)\n",
    "    \n",
    "    return sorted_clusters\n",
    "    \n",
    "# Tải model đã lưu\n",
    "bm25, vectorizer, tfidf_matrix, cluster_texts = load_model()\n",
    "\n",
    "vietnamese_stopwords = load_stopwords()\n",
    "\n",
    "def fit(user_input): # user_input: list of queries \n",
    "    sorted_clusters = find_best_clusters(user_input, bm25, vectorizer, tfidf_matrix, cluster_texts, vietnamese_stopwords)\n",
    "    return sorted_clusters\n"
   ]
  },
  {
   "cell_type": "code",
   "execution_count": 10,
   "id": "e6862636",
   "metadata": {},
   "outputs": [
    {
     "data": {
      "text/plain": [
       "[('8', 4.109821587166924),\n",
       " ('1', 2.419235866355204),\n",
       " ('6', 1.8557057600004014),\n",
       " ('5', 0.0),\n",
       " ('12', 0.0),\n",
       " ('11', 0.0),\n",
       " ('17', 0.0),\n",
       " ('7', 0.0),\n",
       " ('16', 0.0),\n",
       " ('15', 0.0),\n",
       " ('2', 0.0),\n",
       " ('13', 0.0),\n",
       " ('3', 0.0),\n",
       " ('10', 0.0),\n",
       " ('14', 0.0),\n",
       " ('4', 0.0),\n",
       " ('18', 0.0),\n",
       " ('9', 0.0)]"
      ]
     },
     "execution_count": 10,
     "metadata": {},
     "output_type": "execute_result"
    }
   ],
   "source": [
    "find_clusters(['két an toàn'])"
   ]
  }
 ],
 "metadata": {
  "kernelspec": {
   "display_name": "Python 3",
   "language": "python",
   "name": "python3"
  },
  "language_info": {
   "codemirror_mode": {
    "name": "ipython",
    "version": 3
   },
   "file_extension": ".py",
   "mimetype": "text/x-python",
   "name": "python",
   "nbconvert_exporter": "python",
   "pygments_lexer": "ipython3",
   "version": "3.11.9"
  }
 },
 "nbformat": 4,
 "nbformat_minor": 5
}
