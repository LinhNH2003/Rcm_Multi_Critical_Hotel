{
 "cells": [
  {
   "cell_type": "code",
   "execution_count": 1,
   "id": "7073b679",
   "metadata": {},
   "outputs": [],
   "source": [
    "import numpy as np\n",
    "import pandas as pd\n",
    "import plotly.express as px\n",
    "from nltk.corpus import stopwords\n",
    "from sklearn.feature_extraction.text import TfidfVectorizer\n",
    "from sklearn.model_selection import train_test_split\n",
    "from sklearn.metrics.pairwise import cosine_similarity\n",
    "from scipy.sparse.linalg import svds\n",
    "import json\n",
    "from itertools import chain\n",
    "from rich import print\n",
    "import sys\n",
    "import os\n",
    "import utils\n",
    "\n",
    "# Đường dẫn đến thư mục mini_model\n",
    "mini_model_path = os.path.abspath(os.path.join(os.getcwd(), ''))\n",
    "\n",
    "# Lấy danh sách tất cả thư mục con trong mini_model\n",
    "for folder in os.listdir(mini_model_path):\n",
    "    folder_path = os.path.join(mini_model_path, folder)\n",
    "    # Chỉ thêm nếu là thư mục và không phải file\n",
    "    if os.path.isdir(folder_path):\n",
    "        if folder_path not in sys.path:\n",
    "            sys.path.append(folder_path)\n",
    "\n",
    "import function_get_score_amenities as fga\n",
    "import function_get_score_rate as fgr\n",
    "import CF_user_review.CF_user_scores as cfus\n",
    "import recommenr_review_data as rhr\n",
    "import review_quality\n",
    "import recommend_location as rl\n",
    "import recommend_polices as rp\n",
    "import recommed_room as rr\n",
    "import function_get_score_price as fgsp\n"
   ]
  },
  {
   "cell_type": "code",
   "execution_count": 2,
   "id": "9fbb9731",
   "metadata": {},
   "outputs": [],
   "source": [
    "from pathlib import Path\n",
    "import config\n",
    "DEFAULT_BASE_DIR = Path(\"D:/graduate_dissertation/final\")"
   ]
  },
  {
   "cell_type": "code",
   "execution_count": 3,
   "id": "bb63d4ad",
   "metadata": {},
   "outputs": [],
   "source": [
    "with open(config.get_path(\"feature_sub_rate.json\"), 'r', encoding='utf-8') as f:\n",
    "    feature_sub_rate = json.load(f)\n",
    "\n",
    "with open(config.get_path(\"weights_criteria_utilities.json\"), 'r', encoding='utf-8') as f:\n",
    "    weights_criteria_utilities = json.load(f)\n",
    "\n",
    "with open(config.get_path(\"feature_popular_facilities.json\"), 'r', encoding='utf-8') as f:\n",
    "    feature_popular_facilities = json.load(f)\n",
    "    \n",
    "with open(config.get_path(\"feature_facilities.json\"), 'r', encoding='utf-8') as f:\n",
    "    feature_facilities = json.load(f)\n",
    "\n",
    "with open(config.get_path(\"feature_url.json\"), 'r', encoding='utf-8') as f:\n",
    "    feature_url = json.load(f)\n",
    "\n",
    "with open(config.get_path(\"feature_allRoom.json\"), 'r', encoding='utf-8') as f:\n",
    "    feature_allRoom = json.load(f)\n",
    "    \n",
    "with open(config.get_path(\"review_processing.json\"), 'r', encoding='utf-8') as f:\n",
    "    result_groupby_id= json.load(f)\n",
    "\n",
    "with open(config.get_path(\"feature_location.json\"), 'r', encoding='utf-8') as f:\n",
    "    feature_location = json.load(f)\n",
    "\n",
    "with open(config.get_path(\"feature_policies.json\"), 'r', encoding='utf-8') as f:\n",
    "    feature_policies = json.load(f)\n",
    "\n",
    "with open(config.get_path('hotel_data_room.json'), 'r', encoding='utf-8') as f:\n",
    "    feature_detail_room = json.load(f)\n",
    "\n",
    "with open(config.get_path('feature_star_rating.json'), 'r', encoding='utf-8') as f:\n",
    "    feature_star_rating = json.load(f)\n"
   ]
  },
  {
   "cell_type": "markdown",
   "id": "b72e3fcc",
   "metadata": {},
   "source": [
    "#### Load model"
   ]
  },
  {
   "cell_type": "code",
   "execution_count": 4,
   "id": "ad2db58d",
   "metadata": {},
   "outputs": [
    {
     "name": "stdout",
     "output_type": "stream",
     "text": [
      "Initializing Sentence-BERT model: paraphrase-multilingual-MiniLM-L12-v2\n",
      "Using CPU for Sentence-BERT model: paraphrase-multilingual-MiniLM-L12-v2\n",
      "SafeTensors file D:\\graduate_dissertation\\final\\mini_model\\function_get_score_amenities\\model_similarity_amenities\\hotel\\model.safetensors not found, initializing new model\n",
      "Initialized new model paraphrase-multilingual-MiniLM-L12-v2 on CPU\n",
      "Loaded hotel data from D:\\graduate_dissertation\\final\\mini_model\\function_get_score_amenities\\model_similarity_amenities\\hotel\\hotel_data.pkl\n",
      "Loaded vectors from D:\\graduate_dissertation\\final\\mini_model\\function_get_score_amenities\\model_similarity_amenities\\hotel\\hotel_vectors.npy\n",
      "Loaded Faiss index from D:\\graduate_dissertation\\final\\mini_model\\function_get_score_amenities\\model_similarity_amenities\\hotel\\faiss_index.bin\n",
      "Initializing Sentence-BERT model: paraphrase-multilingual-MiniLM-L12-v2\n",
      "Using CPU for Sentence-BERT model: paraphrase-multilingual-MiniLM-L12-v2\n",
      "SafeTensors file D:\\graduate_dissertation\\final\\mini_model\\function_get_score_amenities\\model_similarity_amenities\\room\\model.safetensors not found, initializing new model\n",
      "Initialized new model paraphrase-multilingual-MiniLM-L12-v2 on CPU\n",
      "Loaded hotel data from D:\\graduate_dissertation\\final\\mini_model\\function_get_score_amenities\\model_similarity_amenities\\room\\hotel_data.pkl\n",
      "Loaded vectors from D:\\graduate_dissertation\\final\\mini_model\\function_get_score_amenities\\model_similarity_amenities\\room\\hotel_vectors.npy\n",
      "Loaded Faiss index from D:\\graduate_dissertation\\final\\mini_model\\function_get_score_amenities\\model_similarity_amenities\\room\\faiss_index.bin\n"
     ]
    }
   ],
   "source": [
    "recommend_faclities_hotel = fga.HotelSimilarityRecommender(    \n",
    "    model_name='paraphrase-multilingual-MiniLM-L12-v2',\n",
    "    use_gpu=True,\n",
    "    model_dir=DEFAULT_BASE_DIR.joinpath(\"mini_model\\\\function_get_score_amenities\\\\model_similarity_amenities\\\\hotel\"),\n",
    "    type='hotel',\n",
    "    batch_size=256,\n",
    "    faiss_metric='IP'\n",
    ")\n",
    "recommend_faclities_hotel.load_model()\n",
    "recommend_faclities_room = fga.HotelSimilarityRecommender(\n",
    "    model_name='paraphrase-multilingual-MiniLM-L12-v2',\n",
    "    use_gpu=True,\n",
    "    model_dir=DEFAULT_BASE_DIR.joinpath(\"mini_model\\\\function_get_score_amenities\\\\model_similarity_amenities\\\\room\"),\n",
    "    type='room',\n",
    "    batch_size=256,\n",
    "    faiss_metric='IP'\n",
    ")\n",
    "recommend_faclities_room.load_model()\n"
   ]
  },
  {
   "cell_type": "code",
   "execution_count": 5,
   "id": "c36b02b0",
   "metadata": {},
   "outputs": [],
   "source": [
    "CF = cfus()\n",
    "state_model = CF.load_model(DEFAULT_BASE_DIR.joinpath('mini_model\\\\CF_user_review\\\\CF_state_for_user.pkl'))\n",
    "country_model = CF.load_model(DEFAULT_BASE_DIR.joinpath('mini_model\\\\CF_user_review\\\\CF_country_for_user.pkl'))"
   ]
  },
  {
   "cell_type": "code",
   "execution_count": null,
   "id": "3ab7d642",
   "metadata": {},
   "outputs": [],
   "source": [
    "hotel_review_stats = review_quality.HotelReviewStats()\n",
    "hotel_review_stats.load_stats()"
   ]
  },
  {
   "cell_type": "code",
   "execution_count": 4,
   "id": "5e1504c7",
   "metadata": {},
   "outputs": [],
   "source": [
    "query = {\n",
    "    # ====== location ======\n",
    "    'province': 'Thành phố Hồ Chí Minh',\n",
    "    'nearby_places': [\"Cố đô Hoa Lư\", \"Vườn Chim Thung Nham\", \"Ninh Binh Train Station\"],\n",
    "    'is_near_center': True,\n",
    "    'public_transport_access': ['ga tàu'], # đã xử lý 50%, \n",
    "    # ======\n",
    "    'price_range': (300000, 1000000),  \n",
    "    'rating': (3, 5),\n",
    "    'stars_rating': 3,\n",
    "    'services': [\"Dịch vụ sự kiện & hỗ trợ đặc biệt\"], \n",
    "    'criteria': ['Vị trí & môi trường'],\n",
    "    'amenities': [\"TV màn hình phẳng\", \"két an toàn\"],\n",
    "    'room_type': ['phòng đơn', 'phòng đôi'], # tạm chưa xử lý\n",
    "    'booking_flexibility': ['hủy miễn phí', 'thanh toán khi nhận phòng'], # tạm chưa xử lý\n",
    "    'distance_to_city_center': 5,\n",
    "    \n",
    "    'country': 'Việt Nam',\n",
    "    'state': 'Cặp đôi',\n",
    "\n",
    "    # ====== policies ======\n",
    "    'policies': {\n",
    "        \"Nhận phòng\": '11:00-12:00',\n",
    "        \"Trả phòng\": '12:00-13:00',\n",
    "        \"Chỉ thanh toán bằng tiền mặt\": None,\n",
    "        \"Các phương thức thanh toán được chấp nhận\": 'Bankcard',\n",
    "        \"Giới hạn độ tuổi\": None,\n",
    "        \"Giờ giới nghiêm\": 'Cổng vào chỗ nghỉ sẽ đóng trong khoảng 00:00-5:00',\n",
    "        \"Hút thuốc\": 'Không cho phép hút thuốc.',\n",
    "        \"Hủy đặt phòng/ Trả trước\": 'Các chính sách hủy và thanh toán trước',\n",
    "        \"Không giới hạn độ tuổi\": 'Không có yêu cầu về độ tuổi',\n",
    "        \"Nhóm\": None,\n",
    "        \"Thẻ được chấp nhận tại chỗ nghỉ này\": None,\n",
    "        \"Thẻ được chấp nhận tại khách sạn này\": 'Bankcard',\n",
    "        \"Thời gian yên lặng\": None,\n",
    "        \"Tiệc tùng\": 'Cho phép tổ chức',\n",
    "        \"Trẻ em và giường\": 'Trẻ em dưới 5 tuổi',\n",
    "        \"Vật nuôi\": 'Cho phép mang vật nuôi',\n",
    "        \"Đặt cọc đề phòng hư hại có thể hoàn lại\": 'Yêu cầu VND 1.000.000 tiền đặt cọc đề phòng hư hại khi đến nghỉ.',\n",
    "        'room_service_included': 'Không cần thanh toán trước - thanh toán tại chỗ nghỉ\\nKhông cần thẻ tín dụng'\n",
    "    },\n",
    "\n",
    "    # ====== room ======\n",
    "    'capacity': 2,\n",
    "    'room_type': 'Family',\n",
    "    'room_level': 'Standard', \n",
    "    'area': 50,\n",
    "    'bed_type': {'type': 'giường đôi', 'count': 1},\n",
    "    'included_breakfast': True,\n",
    "    'room_amenties':[],\n",
    "    'room_facilities':[],\n",
    "    'room_view': [],\n",
    "\n",
    "}\n"
   ]
  },
  {
   "cell_type": "code",
   "execution_count": 5,
   "id": "18da18ae",
   "metadata": {},
   "outputs": [],
   "source": [
    "ids_result = []\n",
    "for id in feature_url[0:1]:\n",
    "    ids_result.append(id['id'])\n"
   ]
  },
  {
   "cell_type": "code",
   "execution_count": 36,
   "id": "33d863aa",
   "metadata": {},
   "outputs": [
    {
     "data": {
      "text/html": [
       "<pre style=\"white-space:pre;overflow-x:auto;line-height:normal;font-family:Menlo,'DejaVu Sans Mono',consolas,'Courier New',monospace\">🔵 Bắt đầu tìm kiếm các khách sạn được đánh giá cao về dịch vụ của bạn.\n",
       "</pre>\n"
      ],
      "text/plain": [
       "🔵 Bắt đầu tìm kiếm các khách sạn được đánh giá cao về dịch vụ của bạn.\n"
      ]
     },
     "metadata": {},
     "output_type": "display_data"
    },
    {
     "data": {
      "text/html": [
       "<pre style=\"white-space:pre;overflow-x:auto;line-height:normal;font-family:Menlo,'DejaVu Sans Mono',consolas,'Courier New',monospace\">✎ Dịch vụ: <span style=\"color: #80cfff; text-decoration-color: #80cfff; font-weight: bold\">Dịch vụ sự kiện &amp; hỗ trợ đặc biệt</span>.\n",
       "</pre>\n"
      ],
      "text/plain": [
       "✎ Dịch vụ: \u001b[1;38;2;128;207;255mDịch vụ sự kiện & hỗ trợ đặc biệt\u001b[0m.\n"
      ]
     },
     "metadata": {},
     "output_type": "display_data"
    }
   ],
   "source": [
    "print( f\"🔵 Bắt đầu tìm kiếm các khách sạn được đánh giá cao về dịch vụ của bạn.\") \n",
    "if query['services']:\n",
    "    print(f\"✎ Dịch vụ: [bold #80CFFF]{', '.join(query['services'])}[/bold #80CFFF].\")\n",
    "    services = set()\n",
    "    for criteria in query['services']:\n",
    "        services.update(utils.convert_group(criteria, \"services\", \"expand\"))\n",
    "    result_services = fgr.get_score_sub_rate(services, utils.filter_matching_elements(ids_result, feature_sub_rate))\n",
    "    score_sub_rate_services = {item['id']: item['score'] for item in result_services}"
   ]
  },
  {
   "cell_type": "code",
   "execution_count": null,
   "id": "6439b416",
   "metadata": {},
   "outputs": [],
   "source": [
    "import numpy as np\n",
    "import json\n",
    "\n",
    "import sys\n",
    "from pathlib import Path\n",
    "\n",
    "\n",
    "import config\n",
    "\n",
    "\n",
    "try:\n",
    "    with open(config.get_path(\"feature_sub_rate.json\"), 'r', encoding='utf-8') as f:\n",
    "        feature_sub_rate = json.load(f)\n",
    "except FileNotFoundError:\n",
    "    print(\"File feature_sub_rate.json not found. Please check the file path.\")\n",
    "    feature_sub_rate = []\n",
    "\n",
    "try:\n",
    "    with open(config.get_path(\"weights_criteria_utilities.json\"), 'r', encoding='utf-8') as f:\n",
    "        weights_criteria_utilities = json.load(f)\n",
    "except FileNotFoundError:\n",
    "    print(\"File weights_criteria_utilities.json not found. Please check the file path.\")\n",
    "    weights_criteria_utilities = {}\n",
    "\n",
    "\n",
    "\n",
    "def get_dynamic_weights(selected_utilities, utility_scores=weights_criteria_utilities):\n",
    "    \"\"\"\n",
    "    Tạo trọng số động dựa trên các tiện ích mà người dùng chọn.\n",
    "\n",
    "    Parameters:\n",
    "    - selected_utilities (list of str): Danh sách các tiện ích người dùng quan tâm.\n",
    "    - utility_scores (dict): Bảng trọng số giữa tiện ích và hạng mục đánh giá (mặc định lấy từ file JSON).\n",
    "\n",
    "    Returns:\n",
    "    - dict: Trọng số trung bình của các hạng mục đánh giá liên quan đến tiện ích đã chọn.\n",
    "    \"\"\"\n",
    "    category_weights = {}\n",
    "    \n",
    "    for utility in selected_utilities:\n",
    "        if utility in utility_scores:\n",
    "            for category, weight in utility_scores[utility].items():\n",
    "                if category in category_weights:\n",
    "                    category_weights[category].append(weight)\n",
    "                else:\n",
    "                    category_weights[category] = [weight]\n",
    "    \n",
    "    return {category: np.mean(weights) for category, weights in category_weights.items()}\n",
    "\n",
    "\n",
    "def normalize_hotel_scores(hotel_data):\n",
    "    \"\"\"\n",
    "    Chuẩn hóa điểm đánh giá của từng khách sạn về khoảng [0, 1].\n",
    "\n",
    "    Parameters:\n",
    "    - hotel_data (dict): Dữ liệu điểm đánh giá từng hạng mục của một khách sạn.\n",
    "\n",
    "    Returns:\n",
    "    - dict: Dữ liệu đã được chuẩn hóa về khoảng 0-1 cho các trường số.\n",
    "    \"\"\"\n",
    "    normalized_data = {}\n",
    "    for key, value in hotel_data.items():\n",
    "        try:\n",
    "            normalized_data[key] = float(value.replace(\",\", \".\")) / 10\n",
    "        except (ValueError, AttributeError):\n",
    "            normalized_data[key] = value / 10\n",
    "    return normalized_data\n",
    "\n",
    "\n",
    "def compute_hotel_score(hotel_data, selected_utilities):\n",
    "    \"\"\"\n",
    "    Tính điểm tổng hợp cho khách sạn dựa trên trọng số động từ tiện ích được chọn.\n",
    "\n",
    "    Parameters:\n",
    "    - hotel_data (dict): Dữ liệu thô về điểm số từng tiêu chí của khách sạn.\n",
    "    - selected_utilities (list of str): Danh sách tiện ích người dùng quan tâm.\n",
    "\n",
    "    Returns:\n",
    "    - float: Điểm tổng hợp của khách sạn.\n",
    "    \"\"\"\n",
    "    category_weights = get_dynamic_weights(selected_utilities)\n",
    "    normalized_data = normalize_hotel_scores(hotel_data)\n",
    "    \n",
    "    total_weight = sum(category_weights.values())\n",
    "    final_score = 0\n",
    "    for k in normalized_data.keys():\n",
    "        if k in category_weights.keys():\n",
    "            final_score += normalized_data[k] * (category_weights[k])\n",
    "    return final_score / total_weight\n",
    "\n",
    "\n",
    "def get_score_sub_rate(query: list[str], feature_sub_rate=feature_sub_rate):\n",
    "    \"\"\"\n",
    "    Tính điểm và xếp hạng khách sạn dựa trên truy vấn tiện ích người dùng.\n",
    "\n",
    "    Parameters:\n",
    "    - query (list of str): Danh sách tiện ích người dùng muốn ưu tiên.\n",
    "    - feature_sub_rate (list of dict): Danh sách thông tin khách sạn kèm theo điểm các hạng mục.\n",
    "\n",
    "    Returns:\n",
    "    - list of dict: Danh sách khách sạn gồm 'id' và 'score', được sắp xếp giảm dần theo điểm.\n",
    "    \"\"\"\n",
    "    result = []\n",
    "    for data in feature_sub_rate:\n",
    "        result.append({'id': data['id'], 'score': compute_hotel_score(data, query)})\n",
    "    \n",
    "    return sorted(result, key=lambda x: x['score'], reverse=True)\n"
   ]
  },
  {
   "cell_type": "code",
   "execution_count": 7,
   "id": "95c216dc",
   "metadata": {},
   "outputs": [
    {
     "data": {
      "text/html": [
       "<pre style=\"white-space:pre;overflow-x:auto;line-height:normal;font-family:Menlo,'DejaVu Sans Mono',consolas,'Courier New',monospace\">🔵 Bắt đầu tìm kiếm các khách sạn được đánh giá cao về dịch vụ của bạn.\n",
       "</pre>\n"
      ],
      "text/plain": [
       "🔵 Bắt đầu tìm kiếm các khách sạn được đánh giá cao về dịch vụ của bạn.\n"
      ]
     },
     "metadata": {},
     "output_type": "display_data"
    },
    {
     "data": {
      "text/html": [
       "<pre style=\"white-space:pre;overflow-x:auto;line-height:normal;font-family:Menlo,'DejaVu Sans Mono',consolas,'Courier New',monospace\">✎ Dịch vụ: <span style=\"color: #80cfff; text-decoration-color: #80cfff; font-weight: bold\">Dịch vụ sự kiện &amp; hỗ trợ đặc biệt</span>.\n",
       "</pre>\n"
      ],
      "text/plain": [
       "✎ Dịch vụ: \u001b[1;38;2;128;207;255mDịch vụ sự kiện & hỗ trợ đặc biệt\u001b[0m.\n"
      ]
     },
     "metadata": {},
     "output_type": "display_data"
    },
    {
     "data": {
      "text/html": [
       "<pre style=\"white-space:pre;overflow-x:auto;line-height:normal;font-family:Menlo,'DejaVu Sans Mono',consolas,'Courier New',monospace\">🔵 Trọng số hạng mục đánh giá: <span style=\"font-weight: bold\">{</span><span style=\"color: #008000; text-decoration-color: #008000\">'Nhân viên phục vụ'</span>: <span style=\"color: #008080; text-decoration-color: #008080; font-weight: bold\">0.75</span>, <span style=\"color: #008000; text-decoration-color: #008000\">'Tiện nghi'</span>: <span style=\"color: #008080; text-decoration-color: #008080; font-weight: bold\">0.75</span>, <span style=\"color: #008000; text-decoration-color: #008000\">'Sạch sẽ'</span>: <span style=\"color: #008080; text-decoration-color: #008080; font-weight: bold\">0.6875</span>, <span style=\"color: #008000; text-decoration-color: #008000\">'Thoải mái'</span>: <span style=\"color: #008080; text-decoration-color: #008080; font-weight: bold\">0.75</span>,\n",
       "<span style=\"color: #008000; text-decoration-color: #008000\">'Đáng giá tiền'</span>: <span style=\"color: #008080; text-decoration-color: #008080; font-weight: bold\">0.875</span>, <span style=\"color: #008000; text-decoration-color: #008000\">'Địa điểm'</span>: <span style=\"color: #008080; text-decoration-color: #008080; font-weight: bold\">0.75</span>, <span style=\"color: #008000; text-decoration-color: #008000\">'WiFi miễn phí'</span>: <span style=\"color: #008080; text-decoration-color: #008080; font-weight: bold\">0.5625</span><span style=\"font-weight: bold\">}</span>\n",
       "🔵 Dữ liệu khách sạn đã chuẩn hóa: <span style=\"font-weight: bold\">{</span><span style=\"color: #008000; text-decoration-color: #008000\">'id'</span>: <span style=\"color: #008080; text-decoration-color: #008080; font-weight: bold\">1000059.3</span>, <span style=\"color: #008000; text-decoration-color: #008000\">'stars_rating'</span>: <span style=\"color: #008080; text-decoration-color: #008080; font-weight: bold\">0.3</span>, <span style=\"color: #008000; text-decoration-color: #008000\">'rate'</span>: <span style=\"color: #008080; text-decoration-color: #008080; font-weight: bold\">0.9199999999999999</span>, <span style=\"color: #008000; text-decoration-color: #008000\">'Nhân viên </span>\n",
       "<span style=\"color: #008000; text-decoration-color: #008000\">phục vụ'</span>: <span style=\"color: #008080; text-decoration-color: #008080; font-weight: bold\">0.97</span>, <span style=\"color: #008000; text-decoration-color: #008000\">'Tiện nghi'</span>: <span style=\"color: #008080; text-decoration-color: #008080; font-weight: bold\">0.9</span>, <span style=\"color: #008000; text-decoration-color: #008000\">'Sạch sẽ'</span>: <span style=\"color: #008080; text-decoration-color: #008080; font-weight: bold\">0.93</span>, <span style=\"color: #008000; text-decoration-color: #008000\">'Thoải mái'</span>: <span style=\"color: #008080; text-decoration-color: #008080; font-weight: bold\">0.9400000000000001</span>, <span style=\"color: #008000; text-decoration-color: #008000\">'Đáng giá tiền'</span>: <span style=\"color: #008080; text-decoration-color: #008080; font-weight: bold\">0.93</span>, <span style=\"color: #008000; text-decoration-color: #008000\">'Địa </span>\n",
       "<span style=\"color: #008000; text-decoration-color: #008000\">điểm'</span>: <span style=\"color: #008080; text-decoration-color: #008080; font-weight: bold\">0.9199999999999999</span>, <span style=\"color: #008000; text-decoration-color: #008000\">'WiFi miễn phí'</span>: <span style=\"color: #008080; text-decoration-color: #008080; font-weight: bold\">0.8800000000000001</span><span style=\"font-weight: bold\">}</span>\n",
       "</pre>\n"
      ],
      "text/plain": [
       "🔵 Trọng số hạng mục đánh giá: \u001b[1m{\u001b[0m\u001b[32m'Nhân viên phục vụ'\u001b[0m: \u001b[1;36m0.75\u001b[0m, \u001b[32m'Tiện nghi'\u001b[0m: \u001b[1;36m0.75\u001b[0m, \u001b[32m'Sạch sẽ'\u001b[0m: \u001b[1;36m0.6875\u001b[0m, \u001b[32m'Thoải mái'\u001b[0m: \u001b[1;36m0.75\u001b[0m,\n",
       "\u001b[32m'Đáng giá tiền'\u001b[0m: \u001b[1;36m0.875\u001b[0m, \u001b[32m'Địa điểm'\u001b[0m: \u001b[1;36m0.75\u001b[0m, \u001b[32m'WiFi miễn phí'\u001b[0m: \u001b[1;36m0.5625\u001b[0m\u001b[1m}\u001b[0m\n",
       "🔵 Dữ liệu khách sạn đã chuẩn hóa: \u001b[1m{\u001b[0m\u001b[32m'id'\u001b[0m: \u001b[1;36m1000059.3\u001b[0m, \u001b[32m'stars_rating'\u001b[0m: \u001b[1;36m0.3\u001b[0m, \u001b[32m'rate'\u001b[0m: \u001b[1;36m0.9199999999999999\u001b[0m, \u001b[32m'Nhân viên \u001b[0m\n",
       "\u001b[32mphục vụ'\u001b[0m: \u001b[1;36m0.97\u001b[0m, \u001b[32m'Tiện nghi'\u001b[0m: \u001b[1;36m0.9\u001b[0m, \u001b[32m'Sạch sẽ'\u001b[0m: \u001b[1;36m0.93\u001b[0m, \u001b[32m'Thoải mái'\u001b[0m: \u001b[1;36m0.9400000000000001\u001b[0m, \u001b[32m'Đáng giá tiền'\u001b[0m: \u001b[1;36m0.93\u001b[0m, \u001b[32m'Địa \u001b[0m\n",
       "\u001b[32mđiểm'\u001b[0m: \u001b[1;36m0.9199999999999999\u001b[0m, \u001b[32m'WiFi miễn phí'\u001b[0m: \u001b[1;36m0.8800000000000001\u001b[0m\u001b[1m}\u001b[0m\n"
      ]
     },
     "metadata": {},
     "output_type": "display_data"
    },
    {
     "data": {
      "text/html": [
       "<pre style=\"white-space:pre;overflow-x:auto;line-height:normal;font-family:Menlo,'DejaVu Sans Mono',consolas,'Courier New',monospace\">Nhân viên phục vụ\n",
       "</pre>\n"
      ],
      "text/plain": [
       "Nhân viên phục vụ\n"
      ]
     },
     "metadata": {},
     "output_type": "display_data"
    },
    {
     "data": {
      "text/html": [
       "<pre style=\"white-space:pre;overflow-x:auto;line-height:normal;font-family:Menlo,'DejaVu Sans Mono',consolas,'Courier New',monospace\">Tiện nghi\n",
       "</pre>\n"
      ],
      "text/plain": [
       "Tiện nghi\n"
      ]
     },
     "metadata": {},
     "output_type": "display_data"
    },
    {
     "data": {
      "text/html": [
       "<pre style=\"white-space:pre;overflow-x:auto;line-height:normal;font-family:Menlo,'DejaVu Sans Mono',consolas,'Courier New',monospace\">Sạch sẽ\n",
       "</pre>\n"
      ],
      "text/plain": [
       "Sạch sẽ\n"
      ]
     },
     "metadata": {},
     "output_type": "display_data"
    },
    {
     "data": {
      "text/html": [
       "<pre style=\"white-space:pre;overflow-x:auto;line-height:normal;font-family:Menlo,'DejaVu Sans Mono',consolas,'Courier New',monospace\">Thoải mái\n",
       "</pre>\n"
      ],
      "text/plain": [
       "Thoải mái\n"
      ]
     },
     "metadata": {},
     "output_type": "display_data"
    },
    {
     "data": {
      "text/html": [
       "<pre style=\"white-space:pre;overflow-x:auto;line-height:normal;font-family:Menlo,'DejaVu Sans Mono',consolas,'Courier New',monospace\">Đáng giá tiền\n",
       "</pre>\n"
      ],
      "text/plain": [
       "Đáng giá tiền\n"
      ]
     },
     "metadata": {},
     "output_type": "display_data"
    },
    {
     "data": {
      "text/html": [
       "<pre style=\"white-space:pre;overflow-x:auto;line-height:normal;font-family:Menlo,'DejaVu Sans Mono',consolas,'Courier New',monospace\">Địa điểm\n",
       "</pre>\n"
      ],
      "text/plain": [
       "Địa điểm\n"
      ]
     },
     "metadata": {},
     "output_type": "display_data"
    },
    {
     "data": {
      "text/html": [
       "<pre style=\"white-space:pre;overflow-x:auto;line-height:normal;font-family:Menlo,'DejaVu Sans Mono',consolas,'Courier New',monospace\">WiFi miễn phí\n",
       "</pre>\n"
      ],
      "text/plain": [
       "WiFi miễn phí\n"
      ]
     },
     "metadata": {},
     "output_type": "display_data"
    },
    {
     "data": {
      "text/html": [
       "<pre style=\"white-space:pre;overflow-x:auto;line-height:normal;font-family:Menlo,'DejaVu Sans Mono',consolas,'Courier New',monospace\">🔵 Tổng trọng số: <span style=\"color: #008080; text-decoration-color: #008080; font-weight: bold\">5.125</span>, Điểm cuối cùng: <span style=\"color: #008080; text-decoration-color: #008080; font-weight: bold\">4.745625</span>\n",
       "</pre>\n"
      ],
      "text/plain": [
       "🔵 Tổng trọng số: \u001b[1;36m5.125\u001b[0m, Điểm cuối cùng: \u001b[1;36m4.745625\u001b[0m\n"
      ]
     },
     "metadata": {},
     "output_type": "display_data"
    }
   ],
   "source": [
    "print( f\"🔵 Bắt đầu tìm kiếm các khách sạn được đánh giá cao về dịch vụ của bạn.\") \n",
    "if query['services']:\n",
    "    print(f\"✎ Dịch vụ: [bold #80CFFF]{', '.join(query['services'])}[/bold #80CFFF].\")\n",
    "    services = set()\n",
    "    for criteria in query['services']:\n",
    "        services.update(utils.convert_group(criteria, \"services\", \"expand\"))\n",
    "    result_services = get_score_sub_rate(services, utils.filter_matching_elements(ids_result, feature_sub_rate))"
   ]
  },
  {
   "cell_type": "code",
   "execution_count": 8,
   "id": "1c2498bb",
   "metadata": {},
   "outputs": [
    {
     "data": {
      "text/plain": [
       "[{'id': '10000593', 'score': 0.9259756097560976}]"
      ]
     },
     "execution_count": 8,
     "metadata": {},
     "output_type": "execute_result"
    }
   ],
   "source": [
    "result_services"
   ]
  },
  {
   "cell_type": "code",
   "execution_count": 8,
   "id": "9fa09b25",
   "metadata": {},
   "outputs": [],
   "source": [
    "\n",
    "def get_best_hotels(query): \n",
    "    \"\"\"    \n",
    "    from geopy.geocoders import Nominatim\n",
    "    from geopy.distance import geodesic\n",
    "    import numpy as np\n",
    "\n",
    "    max_distance_km = 18\n",
    "\n",
    "    if query['location'] and query['distance_to_city_center']:\n",
    "        max_distance_km = query['distance_to_city_center']\n",
    "        print( f\"🔵 Thực hiện tìm kiếm khách sạn cách trung tâm thành phố {', '.join(query['location'])} {max_distance_km} km \")\n",
    "        result_location = address_nearplaces_recommendation.find_hotels_near_location(places = query['location'], max_distance_km = max_distance_km + 2)\n",
    "    else:\n",
    "        result_location = data_list\n",
    "\n",
    "    if query['nearby_places']:\n",
    "        print( f\"🔵 Thực hiện tìm kiếm khách sạn gần {', '.join(query['nearby_places'])}\")\n",
    "        result_location = address_nearplaces_recommendation.find_hotels_near_location(data_list = result_location, places = query['nearby_places'], max_distance_km = 20)\n",
    "\n",
    "    ids_resulf = {item['id'] for item in result_location}  # Tạo tập hợp chứa các id từ A\n",
    "    \n",
    "    if query['public_transport_access']:\n",
    "        print( f\"🔵 Thực hiện lọc khách sạn gần {', '.join(query['public_transport_access'])}\")\n",
    "    result_location = filter_hotels_by_distance(filter_matching_elements(ids_resulf, feature_address_nearplaces), 10)\n",
    "    ids_resulf = {item['id'] for item in result_location} \n",
    "    print( f\"✅ Hoàn thành thu thập khách sạn thỏa vị trí\")\n",
    "\n",
    "    del geodesic\n",
    "    del Nominatim\"\"\"\n",
    "\n",
    "    # ============================================================\n",
    "    print(f\"🔵 Bắt đầu tìm kiếm khách sạn thoe địa điểm\")\n",
    "    if query.get('nearby_places') or query.get('province'):\n",
    "        filter_location_hotels = rl.find_hotels_near_location(\n",
    "            feature_location, query.get('nearby_places', []), query.get('province'), max_distance_km=20\n",
    "        )\n",
    "        result_location_hotels_score = rl.get_location_score(\n",
    "            filter_location_hotels, query.get('nearby_places', []),\n",
    "            query.get('province'), query.get('is_near_center', False)\n",
    "        )\n",
    "    else:\n",
    "        result_location_hotels_score = feature_location\n",
    "        for hotel in result_location_hotels_score:\n",
    "            hotel['location_score'] = 0\n",
    "\n",
    "    # lấy ra danh sách các id khách sạn\n",
    "    ids_result = []\n",
    "    for id in result_location_hotels_score:\n",
    "        ids_result.append(id['id'])\n",
    "\n",
    "    \n",
    "    print( f\"🔵 Đã thu được danh sách các ID hotel thỏa điều kiện địa lý.\")\n",
    "\n",
    "\n",
    "    # ============================================================\n",
    "    feature_star = []\n",
    "    for data in feature_star_rating:\n",
    "        if data['id'] in ids_result:\n",
    "            feature_star.append(data)\n",
    "\n",
    "    # 2. Filter star rating\n",
    "    if query.get('stars_rating') not in [None, '', []]:\n",
    "        result_stars_hotels_score = fgsp.get_score_rating(query, feature_star)\n",
    "    else:\n",
    "        result_stars_hotels_score = []\n",
    "        for hotel in feature_star_rating:\n",
    "            result_stars_hotels_score.append({\n",
    "                'id': hotel['id'],\n",
    "                'score_rating': 1\n",
    "            })\n",
    "    # OUTPUT: [{'id': '10000593', 'score_rating': 0.5}, {'id': '10000594', 'score_rating': 0.8}, ...]\n",
    "    # loại bỏ các khách sạn có điểm đánh giá < 0.7. (chưa lọc)\n",
    "\n",
    "    # ============================================================\n",
    "\n",
    "    print( f\"🔵 Xem như đã thu được danh sách các ID hotel_room thỏa điều kiện loại phòng và số lượng.\")\n",
    "\n",
    "    # mapping\n",
    "    detail_room = []\n",
    "    for detail_room_ in feature_detail_room:\n",
    "        if detail_room_['id'] in ids_result:\n",
    "            detail_room.append(detail_room_)\n",
    "\n",
    "    # 3. Filter theo giá\n",
    "    price = query.get('price')\n",
    "    if price not in [None, '', [], (None, None)]:\n",
    "        result_room_price_score = fgsp.get_price_score(query, detail_room)\n",
    "        score_price = fgsp.get_max_room_score_per_hotel(result_room_price_score)\n",
    "    else: \n",
    "        score_price = []\n",
    "        for price in detail_room:\n",
    "            score_price.append({\n",
    "                'id': price['id'], \n",
    "                'hotel_score_price' : 1\n",
    "            })\n",
    "        # OUTPUT [{'id': '10000593', 'hotel_score_price': 0.9847}, ...]\n",
    "        # kieẻm tra giá thực tế so với giá yêu cầu,  nhỏ hơn thì vẫn lấy lớn hơn thì căn nhăc \n",
    "    \n",
    "    score_room = rr.get_room_info_score(query, detail_room)\n",
    "    # OUTPUT : {'id': '10000593', 'room_id': 'RD1000059301', 'room_score': 0.6}\n",
    "    \n",
    "\n",
    "    # ============================================================\n",
    "    print( f\" Kiểm tra chính sách phù hợp.\")\n",
    "    filtered_policies = {} \n",
    "    for id in ids_result:\n",
    "        if id in feature_policies:\n",
    "            filtered_policies[id] = feature_policies[id]\n",
    "\n",
    "    score_policies = {} \n",
    "    if query.get('policies'):\n",
    "        for id, data in filtered_policies.items():\n",
    "            score_policies[id] = rp.find_similar_hotel_policies(query['policies'], data)\n",
    "            # OUTPUT: {'id':'score', ...}\n",
    "    \n",
    "    print( f\" Đã tìm kiếm các chính sách phù hợp với yêu cầu của bạn.\")\n",
    "\n",
    "    # =============================================================\n",
    "    print( f\"🔵 Bắt đầu tìm kiếm các khách sạn được đánh giá cao về dịch vụ của bạn.\") \n",
    "    if query['services']:\n",
    "        print(f\"✎ Dịch vụ: [bold #80CFFF]{', '.join(query['services'])}[/bold #80CFFF].\")\n",
    "        services = set()\n",
    "        for criteria in query['services']:\n",
    "            services.update(utils.convert_group(criteria, \"services\", \"expand\"))\n",
    "        result_services = fgr.get_score_sub_rate(services, utils.filter_matching_elements(ids_result, feature_sub_rate))\n",
    "        score_sub_rate_services = {item['id']: item['score'] for item in result_services}\n",
    "        # OUTPUT: {'id':'score', ...}\n",
    "\n",
    "    else:\n",
    "        print(f\"✎ Dịch vụ: Rỗng\")\n",
    "        print(f\"✎ Dựa vào các tiện ích mà bạn yêu cầu: [bold #80CFFF]{', '.join(query['amenities'])}[/bold #80CFFF].\")\n",
    "        designated_utility = set()\n",
    "        for amenity in query['amenities']:\n",
    "            cluster = fga.find_clusters([amenity], threshold=0.01)\n",
    "            designated_utility.update(cluster)\n",
    "        designated_utility = list(designated_utility)\n",
    "        print(f\"✎ Nên sẽ ưu tiên các khách sạn được đánh cao với các tiêu chí đã phục thuộc các tiện ích trên.\")\n",
    "        score_sub_rate_services = fgr.get_score_sub_rate(designated_utility, \n",
    "                                                  utils.filter_matching_elements(ids_result, feature_sub_rate))\n",
    "        # OUTPUT: {'id':'score', ...}\n",
    "    \n",
    "    print(\" Đã tìm kiếm các khách sạn được đánh giá cao về dịch vụ của bạn.\")\n",
    "\n",
    "\n",
    "    # ============================================================\n",
    "    if query['services']:\n",
    "        print(f\"🔵 Bắt đầu tìm kiếm các khách sạn có dịch vụ: [bold #80CFFF]{', '.join(query['services'])}[/bold #80CFFF]\")\n",
    "        services = set()\n",
    "        for criteria in query['services']:\n",
    "            services.update(utils.convert_group(criteria, \"services\", \"expand\"))\n",
    "        score_services = fga.get_score_services(user_input = list(services), \n",
    "                                    List_ids = ids_result, \n",
    "                                    weights=[0.5, 0.5])\n",
    "        score_services = {item['id']: item['final_score'] for item in score_services}\n",
    "        # OUTPUT: {'id':'score', ...} score này chưa chuẩn hóa \n",
    "        \n",
    "        print(f\" Đã tìm kiếm các khách sạn khớp dịch vụ bạn quan tâm.\")\n",
    "\n",
    "    # ============================================================\n",
    "    if query['amenities']:\n",
    "        print(f\"🔵 Bắt đầu tìm kiếm khách sạn chứa các tiện nghi [bold #80CFFF]{', '.join(query['amenities'])}[/bold #80CFFF]\")\n",
    "        result_facilities_hotel = recommend_faclities_hotel.predict_assignID(\n",
    "            input_amenities= query['amenities'],\n",
    "            hotel_ids=ids_result,\n",
    "            similarity_threshold=0.9, \n",
    "            normalization_factor_base=10\n",
    "        )\n",
    "        result_facilities_room = recommend_faclities_room.predict_assignID(\n",
    "            input_amenities= query['amenities'],\n",
    "            hotel_ids=ids_result,\n",
    "            similarity_threshold=0.9, \n",
    "            normalization_factor_base=10\n",
    "        )\n",
    "\n",
    "        score_facilities = fga.calculate_hotel_scores(result_facilities_hotel, \n",
    "                                   result_facilities_room, \n",
    "                                   threshold=0.9, \n",
    "                                   weight=[0.5, 0.5])\n",
    "        \n",
    "        print(f\" Đã tìm kiếm các khách sạn có tiện nghi bạn quan tâm.\")\n",
    "\n",
    "    print(f\"Danh sách khách sạn đã tìm kiếm được:\")\n",
    "    result_final_info_score = utils.compute_total_score(score_facilities, \n",
    "                                                        score_sub_rate_services, \n",
    "                                                        score_services,\n",
    "                                                        score_policies,\n",
    "                                                        weights=(0.3, 0.3, 0.3, 0.1))\n",
    "    result_final_info_score = dict(result_final_info_score)\n",
    "    # OUTPUT : {'id':'score', ...}\n",
    "\n",
    "\n",
    "    # ============================================================\n",
    "    print(\"============================================================\")\n",
    "    print(\"Giai đoạn 2:\")\n",
    "    print(\"Kiểm tra phản hòi của khách hàng\")\n",
    "    score_review_quality = hotel_review_stats.calculate_final_score_local_data(ids_result, print_warning=False)\n",
    "    if not query['country'] and not query['state']: # TH không có thông tin về quốc gia và trạng thái\n",
    "        if not query['criteria']: # TH không có thông tin về tiêu chí\n",
    "            score_review = rhr.calculate_weighted_bayesian_score(\n",
    "                result_groupby_id = {id: result_groupby_id[id] for id in ids_result if id in result_groupby_id},\n",
    "                #user_weights = rhr.allocate_weights_with_ratios(), \n",
    "                C=100\n",
    "                )\n",
    "            score_review = dict(zip(score_review['hotel_id'], score_review['bayesian_score']))\n",
    "\n",
    "            # Tính điểm cuối cùng\n",
    "            result_final_review_score = rhr.calculate_final_score_from_reviews(\n",
    "                score_review, \n",
    "                score_review_quality, \n",
    "                w=0.8, \n",
    "                q_default=0.5, \n",
    "                s_global=0.7, \n",
    "                threshold=0.3\n",
    "            )\n",
    "            result_final_review_score = dict(zip(result_final_review_score['id'], result_final_review_score['final_score']))\n",
    "            # OUTPUT : {'id':'score', ...}\n",
    "        else: # TH có thông tin về tiêu chí\n",
    "            print(f\"🔵 Tập trung mạnh vào khách sạn có tiêu chí: [bold #80CFFF]{', '.join(query['criteria'])}[/bold #80CFFF]\")\n",
    "            criterion = set()\n",
    "            for criteria in query['criteria']:\n",
    "                criterion.update(utils.convert_group(criteria, \"criteria\", \"expand\"))\n",
    "            criterion = {key: 1 for key in criterion}\n",
    "            weights = rhr.allocate_weights_with_ratios(criterion)\n",
    "            score_review = rhr.calculate_weighted_bayesian_score(\n",
    "                result_groupby_id = {id: result_groupby_id[id] for id in ids_result if id in result_groupby_id},\n",
    "                user_weights = weights, \n",
    "                C=100\n",
    "                )\n",
    "            score_review = dict(zip(score_review['hotel_id'], score_review['bayesian_score']))\n",
    "            result_final_review_score = rhr.calculate_final_score_from_reviews(\n",
    "                score_review, \n",
    "                score_review_quality, \n",
    "                w=0.8, \n",
    "                q_default=0.5, \n",
    "                s_global=0.7, \n",
    "                threshold=0.2\n",
    "            )\n",
    "            result_final_review_score = dict(zip(result_final_review_score['id'], result_final_review_score['final_score']))\n",
    "            # OUTPUT : {'id':'score', ...}\n",
    "\n",
    "    else: # TH có thông tin về quốc gia và trạng thái\n",
    "        print(f\"🔵 Cảm ơn bạn đã cung cấp thông tin về quốc gia: {query['country']} và trạng thái: {query['state']}\")\n",
    "        result = CF.aggregate_prediction(hotel_ids = ids_result, \n",
    "                                            country = query['country'], \n",
    "                                            status = query['state'], \n",
    "                                            state_model=state_model, \n",
    "                                            country_model=country_model, \n",
    "                                            print_result=False, \n",
    "                                            print_warning=False,\n",
    "                                            )\n",
    "        if query['criteria']: # TH có thông tin về tiêu chí\n",
    "            print(f\"🔵 Tập trung mạnh vào khách sạn có tiêu chí: [bold #80CFFF]{', '.join(query['criteria'])}[/bold #80CFFF]\")\n",
    "            criterion = set()\n",
    "            for criteria in query['criteria']:\n",
    "                criterion.update(utils.convert_group(criteria, \"criteria\", \"expand\"))\n",
    "            criterion = {key: 1 for key in criterion}\n",
    "            weights = rhr.allocate_weights_with_ratios(criterion)\n",
    "        else:\n",
    "            weights = rhr.allocate_weights_with_ratios()\n",
    "\n",
    "        score_review = {}\n",
    "        for key, value in result.items():\n",
    "            score_review[key] = sum(value[key1] * weights[key1] for key1 in value) / sum(weights.values())\n",
    "        \n",
    "        result_final_review_score = rhr.calculate_final_score_from_reviews(\n",
    "            score_review, \n",
    "            score_review_quality, \n",
    "            w=0.8, \n",
    "            q_default=0.5, \n",
    "            s_global=0.7, \n",
    "            threshold=0.2\n",
    "        )\n",
    "        result_final_review_score = dict(zip(result_final_review_score['id'], result_final_review_score['final_score']))\n",
    "        # OUTPUT : {'id':'score', ...}\n",
    "\n",
    "\n",
    "    # Kết hợp các điểm số\n",
    "    result_final_score = utils.compute_total_score(\n",
    "        result_final_info_score, \n",
    "        result_final_review_score, \n",
    "        weights=(0.7, 0.3)\n",
    "    )\n",
    "        \n",
    "\n",
    "    return result_final_score"
   ]
  },
  {
   "cell_type": "code",
   "execution_count": 9,
   "id": "de558651",
   "metadata": {},
   "outputs": [
    {
     "data": {
      "text/html": [
       "<pre style=\"white-space:pre;overflow-x:auto;line-height:normal;font-family:Menlo,'DejaVu Sans Mono',consolas,'Courier New',monospace\">🔵 Bắt đầu tìm kiếm khách sạn thoe địa điểm\n",
       "</pre>\n"
      ],
      "text/plain": [
       "🔵 Bắt đầu tìm kiếm khách sạn thoe địa điểm\n"
      ]
     },
     "metadata": {},
     "output_type": "display_data"
    },
    {
     "data": {
      "text/html": [
       "<pre style=\"white-space:pre;overflow-x:auto;line-height:normal;font-family:Menlo,'DejaVu Sans Mono',consolas,'Courier New',monospace\">🔵 Đã thu được danh sách các ID hotel thỏa điều kiện địa lý.\n",
       "</pre>\n"
      ],
      "text/plain": [
       "🔵 Đã thu được danh sách các ID hotel thỏa điều kiện địa lý.\n"
      ]
     },
     "metadata": {},
     "output_type": "display_data"
    },
    {
     "data": {
      "text/html": [
       "<pre style=\"white-space:pre;overflow-x:auto;line-height:normal;font-family:Menlo,'DejaVu Sans Mono',consolas,'Courier New',monospace\">🔵 Xem như đã thu được danh sách các ID hotel_room thỏa điều kiện loại phòng và số lượng.\n",
       "</pre>\n"
      ],
      "text/plain": [
       "🔵 Xem như đã thu được danh sách các ID hotel_room thỏa điều kiện loại phòng và số lượng.\n"
      ]
     },
     "metadata": {},
     "output_type": "display_data"
    },
    {
     "data": {
      "text/html": [
       "<pre style=\"white-space:pre;overflow-x:auto;line-height:normal;font-family:Menlo,'DejaVu Sans Mono',consolas,'Courier New',monospace\"> Kiểm tra chính sách phù hợp.\n",
       "</pre>\n"
      ],
      "text/plain": [
       " Kiểm tra chính sách phù hợp.\n"
      ]
     },
     "metadata": {},
     "output_type": "display_data"
    },
    {
     "data": {
      "text/html": [
       "<pre style=\"white-space:pre;overflow-x:auto;line-height:normal;font-family:Menlo,'DejaVu Sans Mono',consolas,'Courier New',monospace\"> Đã tìm kiếm các chính sách phù hợp với yêu cầu của bạn.\n",
       "</pre>\n"
      ],
      "text/plain": [
       " Đã tìm kiếm các chính sách phù hợp với yêu cầu của bạn.\n"
      ]
     },
     "metadata": {},
     "output_type": "display_data"
    },
    {
     "data": {
      "text/html": [
       "<pre style=\"white-space:pre;overflow-x:auto;line-height:normal;font-family:Menlo,'DejaVu Sans Mono',consolas,'Courier New',monospace\">🔵 Bắt đầu tìm kiếm các khách sạn được đánh giá cao về dịch vụ của bạn.\n",
       "</pre>\n"
      ],
      "text/plain": [
       "🔵 Bắt đầu tìm kiếm các khách sạn được đánh giá cao về dịch vụ của bạn.\n"
      ]
     },
     "metadata": {},
     "output_type": "display_data"
    },
    {
     "data": {
      "text/html": [
       "<pre style=\"white-space:pre;overflow-x:auto;line-height:normal;font-family:Menlo,'DejaVu Sans Mono',consolas,'Courier New',monospace\">✎ Dịch vụ: <span style=\"color: #80cfff; text-decoration-color: #80cfff; font-weight: bold\">Dịch vụ sự kiện &amp; hỗ trợ đặc biệt</span>.\n",
       "</pre>\n"
      ],
      "text/plain": [
       "✎ Dịch vụ: \u001b[1;38;2;128;207;255mDịch vụ sự kiện & hỗ trợ đặc biệt\u001b[0m.\n"
      ]
     },
     "metadata": {},
     "output_type": "display_data"
    },
    {
     "data": {
      "text/html": [
       "<pre style=\"white-space:pre;overflow-x:auto;line-height:normal;font-family:Menlo,'DejaVu Sans Mono',consolas,'Courier New',monospace\"> Đã tìm kiếm các khách sạn được đánh giá cao về dịch vụ của bạn.\n",
       "</pre>\n"
      ],
      "text/plain": [
       " Đã tìm kiếm các khách sạn được đánh giá cao về dịch vụ của bạn.\n"
      ]
     },
     "metadata": {},
     "output_type": "display_data"
    },
    {
     "data": {
      "text/html": [
       "<pre style=\"white-space:pre;overflow-x:auto;line-height:normal;font-family:Menlo,'DejaVu Sans Mono',consolas,'Courier New',monospace\">🔵 Bắt đầu tìm kiếm các khách sạn có dịch vụ: <span style=\"color: #80cfff; text-decoration-color: #80cfff; font-weight: bold\">Dịch vụ sự kiện &amp; hỗ trợ đặc biệt</span>\n",
       "</pre>\n"
      ],
      "text/plain": [
       "🔵 Bắt đầu tìm kiếm các khách sạn có dịch vụ: \u001b[1;38;2;128;207;255mDịch vụ sự kiện & hỗ trợ đặc biệt\u001b[0m\n"
      ]
     },
     "metadata": {},
     "output_type": "display_data"
    },
    {
     "data": {
      "text/html": [
       "<pre style=\"white-space:pre;overflow-x:auto;line-height:normal;font-family:Menlo,'DejaVu Sans Mono',consolas,'Courier New',monospace\"> Đã tìm kiếm các khách sạn khớp dịch vụ bạn quan tâm.\n",
       "</pre>\n"
      ],
      "text/plain": [
       " Đã tìm kiếm các khách sạn khớp dịch vụ bạn quan tâm.\n"
      ]
     },
     "metadata": {},
     "output_type": "display_data"
    },
    {
     "data": {
      "text/html": [
       "<pre style=\"white-space:pre;overflow-x:auto;line-height:normal;font-family:Menlo,'DejaVu Sans Mono',consolas,'Courier New',monospace\">🔵 Bắt đầu tìm kiếm khách sạn chứa các tiện nghi <span style=\"color: #80cfff; text-decoration-color: #80cfff; font-weight: bold\">TV màn hình phẳng, két an toàn</span>\n",
       "</pre>\n"
      ],
      "text/plain": [
       "🔵 Bắt đầu tìm kiếm khách sạn chứa các tiện nghi \u001b[1;38;2;128;207;255mTV màn hình phẳng, két an toàn\u001b[0m\n"
      ]
     },
     "metadata": {},
     "output_type": "display_data"
    },
    {
     "data": {
      "text/html": [
       "<pre style=\"white-space:pre;overflow-x:auto;line-height:normal;font-family:Menlo,'DejaVu Sans Mono',consolas,'Courier New',monospace\"> Đã tìm kiếm các khách sạn có tiện nghi bạn quan tâm.\n",
       "</pre>\n"
      ],
      "text/plain": [
       " Đã tìm kiếm các khách sạn có tiện nghi bạn quan tâm.\n"
      ]
     },
     "metadata": {},
     "output_type": "display_data"
    },
    {
     "data": {
      "text/html": [
       "<pre style=\"white-space:pre;overflow-x:auto;line-height:normal;font-family:Menlo,'DejaVu Sans Mono',consolas,'Courier New',monospace\">Danh sách khách sạn đã tìm kiếm được:\n",
       "</pre>\n"
      ],
      "text/plain": [
       "Danh sách khách sạn đã tìm kiếm được:\n"
      ]
     },
     "metadata": {},
     "output_type": "display_data"
    },
    {
     "data": {
      "text/html": [
       "<pre style=\"white-space:pre;overflow-x:auto;line-height:normal;font-family:Menlo,'DejaVu Sans Mono',consolas,'Courier New',monospace\">============================================================\n",
       "</pre>\n"
      ],
      "text/plain": [
       "============================================================\n"
      ]
     },
     "metadata": {},
     "output_type": "display_data"
    },
    {
     "data": {
      "text/html": [
       "<pre style=\"white-space:pre;overflow-x:auto;line-height:normal;font-family:Menlo,'DejaVu Sans Mono',consolas,'Courier New',monospace\">Giai đoạn <span style=\"color: #008080; text-decoration-color: #008080; font-weight: bold\">2</span>:\n",
       "</pre>\n"
      ],
      "text/plain": [
       "Giai đoạn \u001b[1;36m2\u001b[0m:\n"
      ]
     },
     "metadata": {},
     "output_type": "display_data"
    },
    {
     "data": {
      "text/html": [
       "<pre style=\"white-space:pre;overflow-x:auto;line-height:normal;font-family:Menlo,'DejaVu Sans Mono',consolas,'Courier New',monospace\">Kiểm tra phản hòi của khách hàng\n",
       "</pre>\n"
      ],
      "text/plain": [
       "Kiểm tra phản hòi của khách hàng\n"
      ]
     },
     "metadata": {},
     "output_type": "display_data"
    },
    {
     "data": {
      "text/html": [
       "<pre style=\"white-space:pre;overflow-x:auto;line-height:normal;font-family:Menlo,'DejaVu Sans Mono',consolas,'Courier New',monospace\">🔵 Cảm ơn bạn đã cung cấp thông tin về quốc gia: Việt Nam và trạng thái: Cặp đôi\n",
       "</pre>\n"
      ],
      "text/plain": [
       "🔵 Cảm ơn bạn đã cung cấp thông tin về quốc gia: Việt Nam và trạng thái: Cặp đôi\n"
      ]
     },
     "metadata": {},
     "output_type": "display_data"
    },
    {
     "data": {
      "text/html": [
       "<pre style=\"white-space:pre;overflow-x:auto;line-height:normal;font-family:Menlo,'DejaVu Sans Mono',consolas,'Courier New',monospace\">🔵 Tập trung mạnh vào khách sạn có tiêu chí: <span style=\"color: #80cfff; text-decoration-color: #80cfff; font-weight: bold\">Vị trí &amp; môi trường</span>\n",
       "</pre>\n"
      ],
      "text/plain": [
       "🔵 Tập trung mạnh vào khách sạn có tiêu chí: \u001b[1;38;2;128;207;255mVị trí & môi trường\u001b[0m\n"
      ]
     },
     "metadata": {},
     "output_type": "display_data"
    },
    {
     "data": {
      "text/plain": [
       "[('4464775', 0.5354375230431713),\n",
       " ('3563537', 0.4442356053324338),\n",
       " ('2956757', 0.4334844944477081),\n",
       " ('6921137', 0.43210306904939877),\n",
       " ('4824897', 0.43202227132250176),\n",
       " ('2028376', 0.4115760876873565),\n",
       " ('6536748', 0.41047774126212344),\n",
       " ('5173273', 0.4093007479626751),\n",
       " ('3147128', 0.4022864566763647),\n",
       " ('4852870', 0.39707279918399274),\n",
       " ('3919497', 0.39273467721874117),\n",
       " ('2125472', 0.38932973522976827),\n",
       " ('4946994', 0.3861880995604653),\n",
       " ('3133832', 0.3786680902881274),\n",
       " ('3384511', 0.3747964093663718),\n",
       " ('8803524', 0.373585602929558),\n",
       " ('3249623', 0.3721161115500971),\n",
       " ('331758', 0.363682682264757),\n",
       " ('2967978', 0.36361446522073915),\n",
       " ('13191337', 0.36340379135706363),\n",
       " ('4822969', 0.3628400072934315),\n",
       " ('2812915', 0.3614096718160698),\n",
       " ('5937836', 0.35717180093625595),\n",
       " ('5051247', 0.35682178884744636),\n",
       " ('6120309', 0.3564530233462774),\n",
       " ('6588380', 0.3553599119854238),\n",
       " ('2648923', 0.35340445306897156),\n",
       " ('262297', 0.35224991873064854),\n",
       " ('4181231', 0.3516486028944006),\n",
       " ('5485416', 0.3504063583017932),\n",
       " ('2591951', 0.3497525703493476),\n",
       " ('4546420', 0.348944710827397),\n",
       " ('486891', 0.34893318061753004),\n",
       " ('2186818', 0.3482318396383099),\n",
       " ('5958880', 0.34508299021109856),\n",
       " ('13359845', 0.3444706513237885),\n",
       " ('12701535', 0.3440276288259034),\n",
       " ('10151628', 0.3430461981991497),\n",
       " ('676890', 0.3424258352296464),\n",
       " ('8527558', 0.3408374180366428),\n",
       " ('7975590', 0.33954500117897984),\n",
       " ('9915387', 0.33907301125440215),\n",
       " ('5565161', 0.3383881236107742),\n",
       " ('2707962', 0.3375839680644037),\n",
       " ('6064355', 0.3368856942485915),\n",
       " ('6891345', 0.3359996643516909),\n",
       " ('3822679', 0.33585928471619997),\n",
       " ('8436941', 0.33497166653412336),\n",
       " ('3721327', 0.3347677173862805),\n",
       " ('781831', 0.33469628258807715),\n",
       " ('1116170', 0.33447638215900455),\n",
       " ('12404896', 0.3335960029992842),\n",
       " ('2006627', 0.3325401896670965),\n",
       " ('5651037', 0.3324416479311848),\n",
       " ('1587323', 0.33235177645768776),\n",
       " ('5221523', 0.3319612056396254),\n",
       " ('2868256', 0.3319117151764563),\n",
       " ('10679047', 0.33177199363464016),\n",
       " ('12638180', 0.3302353364378998),\n",
       " ('6639579', 0.32988466589354803),\n",
       " ('3504809', 0.3292631817987673),\n",
       " ('13216464', 0.32728526919809553),\n",
       " ('9647686', 0.3272456957691786),\n",
       " ('6698545', 0.32720439020898123),\n",
       " ('262337', 0.32713587073779027),\n",
       " ('11429049', 0.32620851075921253),\n",
       " ('1942807', 0.32592731320858),\n",
       " ('5756378', 0.32512018028576584),\n",
       " ('9578549', 0.32457237006824385),\n",
       " ('304845', 0.32403261334076966),\n",
       " ('3860193', 0.32312165382816566),\n",
       " ('4915922', 0.3227486353657739),\n",
       " ('2929961', 0.3212513613893959),\n",
       " ('3943143', 0.3209815527540052),\n",
       " ('2186835', 0.31986856537636754),\n",
       " ('13266737', 0.319347102227892),\n",
       " ('9670494', 0.3187431159669766),\n",
       " ('11715691', 0.3186687933188239),\n",
       " ('6129593', 0.3174381797173993),\n",
       " ('5887851', 0.3170319117536544),\n",
       " ('5798125', 0.31556067910384306),\n",
       " ('11402236', 0.31549860927268825),\n",
       " ('2423887', 0.31481760993123276),\n",
       " ('3313111', 0.3142925239085173),\n",
       " ('1379498', 0.31399983114213476),\n",
       " ('11695111', 0.31323329665011745),\n",
       " ('9569340', 0.31249444352770944),\n",
       " ('4353800', 0.3124447196268715),\n",
       " ('3456776', 0.3117798615782543),\n",
       " ('11256679', 0.31158948058355884),\n",
       " ('11307999', 0.31124480792095816),\n",
       " ('3595537', 0.3106982323614036),\n",
       " ('5816635', 0.31027356971006925),\n",
       " ('9811403', 0.3099312381157201),\n",
       " ('4512098', 0.30944181623323064),\n",
       " ('3543329', 0.30939027373108857),\n",
       " ('12765115', 0.30927014090164007),\n",
       " ('3173598', 0.3090057406735479),\n",
       " ('11438385', 0.3075115165233808),\n",
       " ('7268884', 0.3073924193804738),\n",
       " ('10000593', 0.3070079807797159),\n",
       " ('4171022', 0.30688916428645996),\n",
       " ('3212139', 0.30424688906481623),\n",
       " ('3273792', 0.30348908582131784),\n",
       " ('5679592', 0.30225222413529584),\n",
       " ('4423717', 0.3012946525997074),\n",
       " ('4314435', 0.30015189968874095),\n",
       " ('6196342', 0.3001252517252533),\n",
       " ('11754233', 0.3000846803752748),\n",
       " ('11766845', 0.29991396908471785),\n",
       " ('11900070', 0.2985865814939036),\n",
       " ('2423890', 0.2977278746708364),\n",
       " ('6349461', 0.29657868551220656),\n",
       " ('5481359', 0.296015607752813),\n",
       " ('1607798', 0.2959998773546271),\n",
       " ('11542377', 0.2959163813176145),\n",
       " ('11998735', 0.2958748256971677),\n",
       " ('3075263', 0.29546087876428545),\n",
       " ('6094650', 0.2953018768551541),\n",
       " ('4850213', 0.29448482239316875),\n",
       " ('6443338', 0.2941116620757779),\n",
       " ('1095388', 0.2933449500647677),\n",
       " ('4542179', 0.29287308249361665),\n",
       " ('3984378', 0.2922873706974486),\n",
       " ('8497122', 0.29219883260199514),\n",
       " ('12596924', 0.292005545596834),\n",
       " ('1197436', 0.29168879040935786),\n",
       " ('2466914', 0.291284117552699),\n",
       " ('2238468', 0.2908621119181629),\n",
       " ('5901361', 0.2899045428600522),\n",
       " ('12860167', 0.2895182248213398),\n",
       " ('11438620', 0.2889559411965776),\n",
       " ('11765433', 0.2881879557522771),\n",
       " ('3609505', 0.2852828467270393),\n",
       " ('5086310', 0.28503044927401666),\n",
       " ('4669324', 0.28283301541997774),\n",
       " ('9935029', 0.2824699016815515),\n",
       " ('3033796', 0.2814804527328755),\n",
       " ('6531554', 0.28147905831722253),\n",
       " ('11512963', 0.281447135501304),\n",
       " ('4743578', 0.28142256899817464),\n",
       " ('3533675', 0.27998413651315085),\n",
       " ('4427271', 0.2785866400810916),\n",
       " ('4614860', 0.2785197944892963),\n",
       " ('9742003', 0.27731314222574904),\n",
       " ('2705522', 0.27622667023892755),\n",
       " ('2361422', 0.27555240841694156),\n",
       " ('4751534', 0.2754328717517863),\n",
       " ('5989166', 0.2754244349122895),\n",
       " ('6540211', 0.27519851634474535),\n",
       " ('8771886', 0.27480574232386595),\n",
       " ('2855703', 0.2735536917717964),\n",
       " ('4209896', 0.2732634096082296),\n",
       " ('1571248', 0.27319899682510856),\n",
       " ('8120358', 0.2730865731137657),\n",
       " ('10602492', 0.27211919764254183),\n",
       " ('6007463', 0.2720265196432045),\n",
       " ('5589200', 0.26950987741232946),\n",
       " ('4975479', 0.2694981238331388),\n",
       " ('4089700', 0.26865420989486566),\n",
       " ('2683907', 0.26844677164029807),\n",
       " ('1576786', 0.267620962947607),\n",
       " ('6031358', 0.2672762703286473),\n",
       " ('4061862', 0.2670884448701131),\n",
       " ('6356526', 0.2652419838756323),\n",
       " ('11841796', 0.26495511447996967),\n",
       " ('4753777', 0.2640055783131682),\n",
       " ('4769154', 0.26371227321430923),\n",
       " ('2808220', 0.26362180524067297),\n",
       " ('4663940', 0.26309251452052335),\n",
       " ('2808654', 0.263004637925494),\n",
       " ('11465602', 0.26182262233354425),\n",
       " ('6149923', 0.2616099462807178),\n",
       " ('9474560', 0.2613262328803539),\n",
       " ('13247067', 0.26056083081874204),\n",
       " ('10074479', 0.25977323066045044),\n",
       " ('11833388', 0.25971140397682096),\n",
       " ('13001177', 0.25864651489820223),\n",
       " ('13275333', 0.2575335736187012),\n",
       " ('9915429', 0.2574041477527489),\n",
       " ('1089325', 0.2566796258315444),\n",
       " ('2677308', 0.2566142648857994),\n",
       " ('3438123', 0.25550363591435576),\n",
       " ('2707873', 0.2552626567442334),\n",
       " ('5485336', 0.2550867974376778),\n",
       " ('11985781', 0.25504691136519536),\n",
       " ('2787259', 0.2533917797718628),\n",
       " ('11569083', 0.2531778103753457),\n",
       " ('11789496', 0.2520818404828896),\n",
       " ('9019044', 0.2507332771718502),\n",
       " ('5031561', 0.24968351651786397),\n",
       " ('4278997', 0.2496507013876474),\n",
       " ('3818641', 0.248474130988121),\n",
       " ('5411283', 0.24798677816987036),\n",
       " ('12466042', 0.24791658756450163),\n",
       " ('1669977', 0.24788724063792117),\n",
       " ('11676701', 0.24721154623797725),\n",
       " ('12670972', 0.24669114974141118),\n",
       " ('6917864', 0.24639712919352538),\n",
       " ('6271222', 0.24629664917290206),\n",
       " ('11240069', 0.2462023036344061),\n",
       " ('9452473', 0.2449741863851999),\n",
       " ('8488274', 0.2448994267135858),\n",
       " ('9926830', 0.2448482525348663),\n",
       " ('11510053', 0.24449499168747563),\n",
       " ('4433027', 0.2440499728322029),\n",
       " ('13172950', 0.24393308572023475),\n",
       " ('9353769', 0.2435543985366821),\n",
       " ('1052120', 0.2435138072967529),\n",
       " ('1087896', 0.24211852484556912),\n",
       " ('6050675', 0.2417206908088261),\n",
       " ('2915693', 0.2415884921327233),\n",
       " ('11684019', 0.2412725540705119),\n",
       " ('12440315', 0.24114125723633817),\n",
       " ('2876005', 0.24078508496481082),\n",
       " ('4352129', 0.24019404673879985),\n",
       " ('11320501', 0.23963599945869124),\n",
       " ('9726017', 0.23787368728961195),\n",
       " ('9610313', 0.23690393353190964),\n",
       " ('3941996', 0.23528151136636732),\n",
       " ('6183780', 0.23522435855865476),\n",
       " ('2547059', 0.23390381295600815),\n",
       " ('5705367', 0.23380200955753655),\n",
       " ('10896945', 0.23305514659605497),\n",
       " ('6242892', 0.23238530657297488),\n",
       " ('5647782', 0.2321426335522213),\n",
       " ('901551', 0.2318544218192986),\n",
       " ('11242456', 0.23121025635354486),\n",
       " ('3240994', 0.23070091430897152),\n",
       " ('5922809', 0.2305567685636846),\n",
       " ('11918325', 0.2301910596465458),\n",
       " ('1290297', 0.22981465486555097),\n",
       " ('13210896', 0.22946299318011165),\n",
       " ('12767709', 0.22922026666754383),\n",
       " ('12755317', 0.22918443327798066),\n",
       " ('11813155', 0.22712480054013695),\n",
       " ('13550135', 0.2254041835963726),\n",
       " ('2907137', 0.225187055627659),\n",
       " ('2614816', 0.2237073584794998),\n",
       " ('902502', 0.22243729415535923),\n",
       " ('13409368', 0.2216682950233807),\n",
       " ('7090264', 0.21962164497375483),\n",
       " ('3665026', 0.21859260551073878),\n",
       " ('5393536', 0.21745209134070095),\n",
       " ('1645562', 0.21680357939004896),\n",
       " ('270280', 0.21567431423484715),\n",
       " ('3161761', 0.21499557384331192),\n",
       " ('13393412', 0.2061502332584245),\n",
       " ('2906940', 0.20557405708552212),\n",
       " ('9933885', 0.20555819878730414),\n",
       " ('5712596', 0.20533139970274872),\n",
       " ('3663771', 0.20505305812958563),\n",
       " ('5100864', 0.20437893903255458),\n",
       " ('9159977', 0.2016512459814548),\n",
       " ('1669872', 0.1979041841222198),\n",
       " ('4767623', 0.17036153487452507),\n",
       " ('13540175', 0.16221316030621527),\n",
       " ('11161908', 0.15887663741409777),\n",
       " ('13136703', 0.15819884475821155),\n",
       " ('4057986', 0.1567812115624547),\n",
       " ('13429128', 0.15113032205158372),\n",
       " ('12039789', 0.15105713326984543),\n",
       " ('12039792', 0.15049995890015264),\n",
       " ('13449473', 0.1502172446846962),\n",
       " ('13386802', 0.1498454187338938),\n",
       " ('1139091', 0.14944732035696504),\n",
       " ('2358664', 0.14937456637620924),\n",
       " ('11822990', 0.14933885195851324),\n",
       " ('5254031', 0.14879227261245248),\n",
       " ('13357213', 0.14878415121138094),\n",
       " ('13513785', 0.14820153933519026),\n",
       " ('11295606', 0.14797041967511176),\n",
       " ('11788268', 0.14665149768197433),\n",
       " ('3808521', 0.14656276569515467),\n",
       " ('11591287', 0.14650304455310104),\n",
       " ('2783725', 0.146034841299057),\n",
       " ('11270049', 0.14585105434060094),\n",
       " ('13512307', 0.14546690462285178),\n",
       " ('2111117', 0.14464116448909042),\n",
       " ('9915871', 0.1444531039893627),\n",
       " ('13312901', 0.14429180005937814),\n",
       " ('5892057', 0.14327164520323274),\n",
       " ('13545552', 0.1424941691433777),\n",
       " ('6089703', 0.14210699722170828),\n",
       " ('13328353', 0.14203125461691515),\n",
       " ('6562884', 0.14040083405375478),\n",
       " ('4096398', 0.13928441989421841),\n",
       " ('13297433', 0.13892164927476544),\n",
       " ('9738970', 0.13660994695127007),\n",
       " ('8276094', 0.1357751930952072),\n",
       " ('13363606', 0.13498729364329476),\n",
       " ('11802757', 0.13476853775733608),\n",
       " ('12697585', 0.13329556391888756),\n",
       " ('5680682', 0.13247996999323364),\n",
       " ('12870016', 0.13164337624609468),\n",
       " ('1965263', 0.13092554493248462),\n",
       " ('11480287', 0.13078462411463257),\n",
       " ('5372971', 0.13055221957713364),\n",
       " ('8728584', 0.1300043406933546),\n",
       " ('13488416', 0.1288389076640596),\n",
       " ('13425214', 0.12769669617712495),\n",
       " ('12837627', 0.1276953989416361),\n",
       " ('4779725', 0.12767893841862676),\n",
       " ('4009904', 0.12680677647888658),\n",
       " ('9000235', 0.12639364618178686),\n",
       " ('13579007', 0.12512917572015422),\n",
       " ('12731957', 0.12501739209645887),\n",
       " ('13612785', 0.12498739374929566),\n",
       " ('5218878', 0.12429364225268362),\n",
       " ('13488847', 0.1242195823019137),\n",
       " ('13210281', 0.12133861880817721),\n",
       " ('12144659', 0.12093988611304658),\n",
       " ('11991522', 0.11776210644596714),\n",
       " ('11577537', 0.11495368112379212),\n",
       " ('12671360', 0.11102545415773478),\n",
       " ('11320326', 0.11067490998871847),\n",
       " ('12005491', 0.10831071138417603),\n",
       " ('11373382', 0.09910701045393942),\n",
       " ('12673545', 0.09178209106990058)]"
      ]
     },
     "execution_count": 9,
     "metadata": {},
     "output_type": "execute_result"
    }
   ],
   "source": [
    "get_best_hotels(query)"
   ]
  }
 ],
 "metadata": {
  "kernelspec": {
   "display_name": "Python 3",
   "language": "python",
   "name": "python3"
  },
  "language_info": {
   "codemirror_mode": {
    "name": "ipython",
    "version": 3
   },
   "file_extension": ".py",
   "mimetype": "text/x-python",
   "name": "python",
   "nbconvert_exporter": "python",
   "pygments_lexer": "ipython3",
   "version": "3.11.9"
  }
 },
 "nbformat": 4,
 "nbformat_minor": 5
}
